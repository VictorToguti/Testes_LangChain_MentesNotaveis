
  "cells": [
    {
      "cell_type": "markdown",
      "metadata": {
        "id": "view-in-github",
        "colab_type": "text"
      },
      "source": [
        "<a href=\"https://colab.research.google.com/github/VictorToguti/Testes_LangChain_MentesNotaveis/blob/main/Teste2_LangGraph.ipynb\" target=\"_parent\"><img src=\"https://colab.research.google.com/assets/colab-badge.svg\" alt=\"Open In Colab\"/></a>"
      ]
    },
    {
      "cell_type": "code",
      "source": [
        "#Install all the depencencies\n",
        "!pip install langgraph langchain_community langchain_groq\n",
        "import getpass, os\n",
        "os.environ[\"GROQ_API_KEY\"] = getpass.getpass(f\"Please provide your GROQ KEY\")"
      ],
      "metadata": {
        "id": "CNeKKWJWafJ7",
        "colab": {
          "base_uri": "https://localhost:8080/"
        },
        "outputId": "6f0ae7e6-3b21-403e-8799-1b1017d79487"
      },
      "execution_count": 5,
      "outputs": [
        {
          "name": "stdout",
          "output_type": "stream",
          "text": [
            "Requirement already satisfied: langgraph in /usr/local/lib/python3.11/dist-packages (0.3.1)\n",
            "Requirement already satisfied: langchain_community in /usr/local/lib/python3.11/dist-packages (0.3.18)\n",
            "Collecting langchain_groq\n",
            "  Downloading langchain_groq-0.2.4-py3-none-any.whl.metadata (3.0 kB)\n",
            "Requirement already satisfied: langchain-core<0.4,>=0.1 in /usr/local/lib/python3.11/dist-packages (from langgraph) (0.3.40)\n",
            "Requirement already satisfied: langgraph-checkpoint<3.0.0,>=2.0.10 in /usr/local/lib/python3.11/dist-packages (from langgraph) (2.0.16)\n",
            "Requirement already satisfied: langgraph-prebuilt<0.2,>=0.1.1 in /usr/local/lib/python3.11/dist-packages (from langgraph) (0.1.1)\n",
            "Requirement already satisfied: langgraph-sdk<0.2.0,>=0.1.42 in /usr/local/lib/python3.11/dist-packages (from langgraph) (0.1.53)\n",
            "Requirement already satisfied: langchain<1.0.0,>=0.3.19 in /usr/local/lib/python3.11/dist-packages (from langchain_community) (0.3.19)\n",
            "Requirement already satisfied: SQLAlchemy<3,>=1.4 in /usr/local/lib/python3.11/dist-packages (from langchain_community) (2.0.38)\n",
            "Requirement already satisfied: requests<3,>=2 in /usr/local/lib/python3.11/dist-packages (from langchain_community) (2.32.3)\n",
            "Requirement already satisfied: PyYAML>=5.3 in /usr/local/lib/python3.11/dist-packages (from langchain_community) (6.0.2)\n",
            "Requirement already satisfied: aiohttp<4.0.0,>=3.8.3 in /usr/local/lib/python3.11/dist-packages (from langchain_community) (3.11.12)\n",
            "Requirement already satisfied: tenacity!=8.4.0,<10,>=8.1.0 in /usr/local/lib/python3.11/dist-packages (from langchain_community) (9.0.0)\n",
            "Requirement already satisfied: dataclasses-json<0.7,>=0.5.7 in /usr/local/lib/python3.11/dist-packages (from langchain_community) (0.6.7)\n",
            "Requirement already satisfied: pydantic-settings<3.0.0,>=2.4.0 in /usr/local/lib/python3.11/dist-packages (from langchain_community) (2.8.1)\n",
            "Requirement already satisfied: langsmith<0.4,>=0.1.125 in /usr/local/lib/python3.11/dist-packages (from langchain_community) (0.3.9)\n",
            "Requirement already satisfied: httpx-sse<1.0.0,>=0.4.0 in /usr/local/lib/python3.11/dist-packages (from langchain_community) (0.4.0)\n",
            "Requirement already satisfied: numpy<2,>=1.26.4 in /usr/local/lib/python3.11/dist-packages (from langchain_community) (1.26.4)\n",
            "Collecting groq<1,>=0.4.1 (from langchain_groq)\n",
            "  Downloading groq-0.18.0-py3-none-any.whl.metadata (14 kB)\n",
            "Requirement already satisfied: aiohappyeyeballs>=2.3.0 in /usr/local/lib/python3.11/dist-packages (from aiohttp<4.0.0,>=3.8.3->langchain_community) (2.4.6)\n",
            "Requirement already satisfied: aiosignal>=1.1.2 in /usr/local/lib/python3.11/dist-packages (from aiohttp<4.0.0,>=3.8.3->langchain_community) (1.3.2)\n",
            "Requirement already satisfied: attrs>=17.3.0 in /usr/local/lib/python3.11/dist-packages (from aiohttp<4.0.0,>=3.8.3->langchain_community) (25.1.0)\n",
            "Requirement already satisfied: frozenlist>=1.1.1 in /usr/local/lib/python3.11/dist-packages (from aiohttp<4.0.0,>=3.8.3->langchain_community) (1.5.0)\n",
            "Requirement already satisfied: multidict<7.0,>=4.5 in /usr/local/lib/python3.11/dist-packages (from aiohttp<4.0.0,>=3.8.3->langchain_community) (6.1.0)\n",
            "Requirement already satisfied: propcache>=0.2.0 in /usr/local/lib/python3.11/dist-packages (from aiohttp<4.0.0,>=3.8.3->langchain_community) (0.3.0)\n",
            "Requirement already satisfied: yarl<2.0,>=1.17.0 in /usr/local/lib/python3.11/dist-packages (from aiohttp<4.0.0,>=3.8.3->langchain_community) (1.18.3)\n",
            "Requirement already satisfied: marshmallow<4.0.0,>=3.18.0 in /usr/local/lib/python3.11/dist-packages (from dataclasses-json<0.7,>=0.5.7->langchain_community) (3.26.1)\n",
            "Requirement already satisfied: typing-inspect<1,>=0.4.0 in /usr/local/lib/python3.11/dist-packages (from dataclasses-json<0.7,>=0.5.7->langchain_community) (0.9.0)\n",
            "Requirement already satisfied: anyio<5,>=3.5.0 in /usr/local/lib/python3.11/dist-packages (from groq<1,>=0.4.1->langchain_groq) (3.7.1)\n",
            "Requirement already satisfied: distro<2,>=1.7.0 in /usr/local/lib/python3.11/dist-packages (from groq<1,>=0.4.1->langchain_groq) (1.9.0)\n",
            "Requirement already satisfied: httpx<1,>=0.23.0 in /usr/local/lib/python3.11/dist-packages (from groq<1,>=0.4.1->langchain_groq) (0.28.1)\n",
            "Requirement already satisfied: pydantic<3,>=1.9.0 in /usr/local/lib/python3.11/dist-packages (from groq<1,>=0.4.1->langchain_groq) (2.10.6)\n",
            "Requirement already satisfied: sniffio in /usr/local/lib/python3.11/dist-packages (from groq<1,>=0.4.1->langchain_groq) (1.3.1)\n",
            "Requirement already satisfied: typing-extensions<5,>=4.10 in /usr/local/lib/python3.11/dist-packages (from groq<1,>=0.4.1->langchain_groq) (4.12.2)\n",
            "Requirement already satisfied: langchain-text-splitters<1.0.0,>=0.3.6 in /usr/local/lib/python3.11/dist-packages (from langchain<1.0.0,>=0.3.19->langchain_community) (0.3.6)\n",
            "Requirement already satisfied: jsonpatch<2.0,>=1.33 in /usr/local/lib/python3.11/dist-packages (from langchain-core<0.4,>=0.1->langgraph) (1.33)\n",
            "Requirement already satisfied: packaging<25,>=23.2 in /usr/local/lib/python3.11/dist-packages (from langchain-core<0.4,>=0.1->langgraph) (24.2)\n",
            "Requirement already satisfied: msgpack<2.0.0,>=1.1.0 in /usr/local/lib/python3.11/dist-packages (from langgraph-checkpoint<3.0.0,>=2.0.10->langgraph) (1.1.0)\n",
            "Requirement already satisfied: orjson>=3.10.1 in /usr/local/lib/python3.11/dist-packages (from langgraph-sdk<0.2.0,>=0.1.42->langgraph) (3.10.15)\n",
            "Requirement already satisfied: requests-toolbelt<2.0.0,>=1.0.0 in /usr/local/lib/python3.11/dist-packages (from langsmith<0.4,>=0.1.125->langchain_community) (1.0.0)\n",
            "Requirement already satisfied: zstandard<0.24.0,>=0.23.0 in /usr/local/lib/python3.11/dist-packages (from langsmith<0.4,>=0.1.125->langchain_community) (0.23.0)\n",
            "Requirement already satisfied: python-dotenv>=0.21.0 in /usr/local/lib/python3.11/dist-packages (from pydantic-settings<3.0.0,>=2.4.0->langchain_community) (1.0.1)\n",
            "Requirement already satisfied: charset-normalizer<4,>=2 in /usr/local/lib/python3.11/dist-packages (from requests<3,>=2->langchain_community) (3.4.1)\n",
            "Requirement already satisfied: idna<4,>=2.5 in /usr/local/lib/python3.11/dist-packages (from requests<3,>=2->langchain_community) (3.10)\n",
            "Requirement already satisfied: urllib3<3,>=1.21.1 in /usr/local/lib/python3.11/dist-packages (from requests<3,>=2->langchain_community) (2.3.0)\n",
            "Requirement already satisfied: certifi>=2017.4.17 in /usr/local/lib/python3.11/dist-packages (from requests<3,>=2->langchain_community) (2025.1.31)\n",
            "Requirement already satisfied: greenlet!=0.4.17 in /usr/local/lib/python3.11/dist-packages (from SQLAlchemy<3,>=1.4->langchain_community) (3.1.1)\n",
            "Requirement already satisfied: httpcore==1.* in /usr/local/lib/python3.11/dist-packages (from httpx<1,>=0.23.0->groq<1,>=0.4.1->langchain_groq) (1.0.7)\n",
            "Requirement already satisfied: h11<0.15,>=0.13 in /usr/local/lib/python3.11/dist-packages (from httpcore==1.*->httpx<1,>=0.23.0->groq<1,>=0.4.1->langchain_groq) (0.14.0)\n",
            "Requirement already satisfied: jsonpointer>=1.9 in /usr/local/lib/python3.11/dist-packages (from jsonpatch<2.0,>=1.33->langchain-core<0.4,>=0.1->langgraph) (3.0.0)\n",
            "Requirement already satisfied: annotated-types>=0.6.0 in /usr/local/lib/python3.11/dist-packages (from pydantic<3,>=1.9.0->groq<1,>=0.4.1->langchain_groq) (0.7.0)\n",
            "Requirement already satisfied: pydantic-core==2.27.2 in /usr/local/lib/python3.11/dist-packages (from pydantic<3,>=1.9.0->groq<1,>=0.4.1->langchain_groq) (2.27.2)\n",
            "Requirement already satisfied: mypy-extensions>=0.3.0 in /usr/local/lib/python3.11/dist-packages (from typing-inspect<1,>=0.4.0->dataclasses-json<0.7,>=0.5.7->langchain_community) (1.0.0)\n",
            "Downloading langchain_groq-0.2.4-py3-none-any.whl (14 kB)\n",
            "Downloading groq-0.18.0-py3-none-any.whl (121 kB)\n",
            "\u001b[2K   \u001b[90m━━━━━━━━━━━━━━━━━━━━━━━━━━━━━━━━━━━━━━━━\u001b[0m \u001b[32m121.9/121.9 kB\u001b[0m \u001b[31m5.6 MB/s\u001b[0m eta \u001b[36m0:00:00\u001b[0m\n",
            "\u001b[?25hInstalling collected packages: groq, langchain_groq\n",
            "Successfully installed groq-0.18.0 langchain_groq-0.2.4\n",
            "Please provide your GROQ KEY··········\n"
          ]
        }
      ]
    },
    {
      "cell_type": "code",
      "source": [
        "#Importing all the libs\n",
        "from typing import Literal, TypedDict\n",
        "from langchain_groq import ChatGroq\n",
        "from langgraph.graph import MessagesState, END\n",
        "from langgraph.types import Command\n",
        "from langchain_core.tools import tool as tl\n",
        "from langchain_core.messages import HumanMessage\n",
        "from langgraph.graph import StateGraph, START, END\n",
        "from langgraph.prebuilt import create_react_agent\n",
        "\n",
        "#Declaring the tool agents that will be in the sistem\n",
        "Class_Types = [\"MathTeacher\"]\n",
        "options = Class_Types + [\"FINISH\"]\n",
        "\n",
        "#Here is the prompt that is passed to the supervisor, so he know how to make the next decision based on his task\n",
        "system_prompt = (\n",
        "    \"You are a helpfull supervisor, your task is to manage the question between the\"\n",
        "    f\" following teachers: {Class_Types}. Given the user request,\"\n",
        "    \" respond teacher that should respond. When finished,\"\n",
        "    \" respond with FINISH.\"\n",
        ")\n",
        "\n",
        "#Here we declare the route that will be used to pass the tasks between the agents\n",
        "class Router(TypedDict):\n",
        "    \"\"\"Teacher to route to next. If no Teacher needed, route to FINISH.\"\"\"\n",
        "\n",
        "    next: Literal[*options]\n",
        "\n",
        "#Here we declare the model that gonna be used in both of the agents\n",
        "supervisorLLM = ChatGroq(model=\"llama-3.1-8b-instant\")\n",
        "\n",
        "#This is the state used in the route, to point how the process is going(And if need to be finish)\n",
        "class State(MessagesState):\n",
        "    next: str\n",
        "\n",
        "#Here we are declaring the supervisor node, then he's able to make route control\n",
        "def supervisor_node(state: State) -> Command[Literal[*Class_Types, \"__end__\"]]:\n",
        "    messages = [\n",
        "        {\"role\": \"system\", \"content\": system_prompt},\n",
        "    ] + state[\"messages\"]\n",
        "    response = supervisorLLM.with_structured_output(Router).invoke(messages)\n",
        "    step = response[\"next\"]\n",
        "    if step == \"FINISH\":\n",
        "        step = END\n",
        "\n",
        "    return Command(goto=step, update={\"next\": step})"
      ],
      "metadata": {
        "id": "LLUjfLTmak7y"
      },
      "execution_count": 32,
      "outputs": []
    },
    {
      "cell_type": "code",
      "source": [
        "#Next step is declare the \"MathTeacher\" Agent, starting by his system_prompt\n",
        "teacher_prompt=\"You are a math teacher. Given one question or calculation, respond with the result.\"\n",
        "\n",
        "#Then we declare the tools that we gonna use\n",
        "@tl\n",
        "def Subtract (a:int, b: int):\n",
        "   \"\"\"Subtract one value on another.\"\"\"\n",
        "   return a * b\n",
        "@tl\n",
        "def Add(a:int, b: int):\n",
        "   \"\"\"Add two numbers.\"\"\"\n",
        "   return a + b\n",
        "@tl\n",
        "def Divide(a:int, b: int):\n",
        "   \"\"\"Divide on number on another.\"\"\"\n",
        "   return a / b\n",
        "@tl\n",
        "def Multiply(a:int, b: int):\n",
        "   \"\"\"Multiply two numbers.\"\"\"\n",
        "   return a * b\n",
        "@tl\n",
        "def Exponentiate(a:int, b: int):\n",
        "   \"\"\"Exponentiate one number to the power of another.\"\"\"\n",
        "   return a ** b\n",
        "#Integrating the Model, Tools and prompt, adding an state and command control, we got the agent that we need\n",
        "MathTeacher_agent = create_react_agent(supervisorLLM,tools=[Subtract,Add,Divide,Multiply,Exponentiate],prompt=teacher_prompt)\n",
        "def MathTeacher_node(state: State) -> Command[Literal[\"supervisor\"]]:\n",
        "    Qresult = MathTeacher_agent.invoke(state)\n",
        "    humanMessage = HumanMessage(content=Qresult[\"messages\"][-1].content, name=\"MathTeacher\")\n",
        "    return Command(update={\"messages\": [humanMessage]},goto=\"supervisor\",)\n",
        "\n",
        "#Finally we declare the graph, and push the nodes that integrates the system\n",
        "builder = StateGraph(State)\n",
        "builder.add_edge(START, \"supervisor\")\n",
        "builder.add_node(\"supervisor\", supervisor_node)\n",
        "builder.add_node(\"MathTeacher\", MathTeacher_node)\n",
        "graph = builder.compile()"
      ],
      "metadata": {
        "id": "lk5vdxmWanzz"
      },
      "execution_count": 33,
      "outputs": []
    },
    {
      "cell_type": "code",
      "source": [
        "for s in graph.stream(\n",
        "    {\"messages\": [(\"user\", \"How much is 47^5\")]}, subgraphs=True):\n",
        "    print(s)\n",
        "    print(\"----\")"
      ],
      "metadata": {
        "id": "353iorCfap-z",
        "colab": {
          "base_uri": "https://localhost:8080/"
        },
        "outputId": "85b4ca0e-a29d-47a8-ecab-e082c9349d92"
      },
      "execution_count": 34,
      "outputs": [
        {
          "output_type": "stream",
          "name": "stdout",
          "text": [
            "((), {'supervisor': {'next': 'MathTeacher'}})\n",
            "----\n",
            "(('MathTeacher:29fa7721-59f4-c48e-ba73-d939fb65255d',), {'agent': {'messages': [AIMessage(content='', additional_kwargs={'tool_calls': [{'id': 'call_8f3e', 'function': {'arguments': '{\"a\": 47, \"b\": 5}', 'name': 'Exponentiate'}, 'type': 'function'}]}, response_metadata={'token_usage': {'completion_tokens': 21, 'prompt_tokens': 474, 'total_tokens': 495, 'completion_time': 0.028, 'prompt_time': 0.018290745, 'queue_time': 0.241739814, 'total_time': 0.046290745}, 'model_name': 'llama-3.1-8b-instant', 'system_fingerprint': 'fp_9ddb1cf135', 'finish_reason': 'tool_calls', 'logprobs': None}, id='run-930ad120-a780-482a-b947-b5b00b8667c1-0', tool_calls=[{'name': 'Exponentiate', 'args': {'a': 47, 'b': 5}, 'id': 'call_8f3e', 'type': 'tool_call'}], usage_metadata={'input_tokens': 474, 'output_tokens': 21, 'total_tokens': 495})]}})\n",
            "----\n",
            "(('MathTeacher:29fa7721-59f4-c48e-ba73-d939fb65255d',), {'tools': {'messages': [ToolMessage(content='229345007', name='Exponentiate', id='9bcdda1c-0a1c-4b4b-af5a-66c3a5ec4bb2', tool_call_id='call_8f3e')]}})\n",
            "----\n",
            "(('MathTeacher:29fa7721-59f4-c48e-ba73-d939fb65255d',), {'agent': {'messages': [AIMessage(content='The result of 47^5 is 229345007.', additional_kwargs={}, response_metadata={'token_usage': {'completion_tokens': 14, 'prompt_tokens': 508, 'total_tokens': 522, 'completion_time': 0.018666667, 'prompt_time': 0.012232109, 'queue_time': 0.23324112600000002, 'total_time': 0.030898776}, 'model_name': 'llama-3.1-8b-instant', 'system_fingerprint': 'fp_21a77a6a8c', 'finish_reason': 'stop', 'logprobs': None}, id='run-6e56eff7-931a-4b0d-8393-9e066f5d6f40-0', usage_metadata={'input_tokens': 508, 'output_tokens': 14, 'total_tokens': 522})]}})\n",
            "----\n",
            "((), {'MathTeacher': {'messages': [HumanMessage(content='The result of 47^5 is 229345007.', additional_kwargs={}, response_metadata={}, name='MathTeacher')]}})\n",
            "----\n",
            "((), {'supervisor': {'next': '__end__'}})\n",
            "----\n"
          ]
        }
      ]
    }
  ]
}
