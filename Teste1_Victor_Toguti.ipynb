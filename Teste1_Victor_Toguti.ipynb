{
 "cells": [
  {
   "cell_type": "code",
   "execution_count": 12,
   "id": "db9b6589-2162-4985-940e-d56d7f177374",
   "metadata": {},
   "outputs": [
    {
     "name": "stdout",
     "output_type": "stream",
     "text": [
      "Collecting langchain\n",
      "  Using cached langchain-0.3.19-py3-none-any.whl.metadata (7.9 kB)\n",
      "Collecting langchain-community\n",
      "  Using cached langchain_community-0.3.18-py3-none-any.whl.metadata (2.4 kB)\n",
      "Collecting langchain-groq\n",
      "  Using cached langchain_groq-0.2.4-py3-none-any.whl.metadata (3.0 kB)\n",
      "Collecting langchain-core<1.0.0,>=0.3.35 (from langchain)\n",
      "  Using cached langchain_core-0.3.40-py3-none-any.whl.metadata (5.9 kB)\n",
      "Collecting langchain-text-splitters<1.0.0,>=0.3.6 (from langchain)\n",
      "  Using cached langchain_text_splitters-0.3.6-py3-none-any.whl.metadata (1.9 kB)\n",
      "Collecting langsmith<0.4,>=0.1.17 (from langchain)\n",
      "  Using cached langsmith-0.3.11-py3-none-any.whl.metadata (14 kB)\n",
      "Collecting pydantic<3.0.0,>=2.7.4 (from langchain)\n",
      "  Using cached pydantic-2.10.6-py3-none-any.whl.metadata (30 kB)\n",
      "Collecting SQLAlchemy<3,>=1.4 (from langchain)\n",
      "  Downloading SQLAlchemy-2.0.38-cp312-cp312-win_amd64.whl.metadata (9.9 kB)\n",
      "Requirement already satisfied: requests<3,>=2 in c:\\users\\victor.toguti\\virtual_env_tests\\cuda\\lib\\site-packages (from langchain) (2.32.3)\n",
      "Requirement already satisfied: PyYAML>=5.3 in c:\\users\\victor.toguti\\virtual_env_tests\\cuda\\lib\\site-packages (from langchain) (6.0.1)\n",
      "Requirement already satisfied: aiohttp<4.0.0,>=3.8.3 in c:\\users\\victor.toguti\\virtual_env_tests\\cuda\\lib\\site-packages (from langchain) (3.9.5)\n",
      "Collecting tenacity!=8.4.0,<10,>=8.1.0 (from langchain)\n",
      "  Downloading tenacity-9.0.0-py3-none-any.whl.metadata (1.2 kB)\n",
      "Requirement already satisfied: numpy<3,>=1.26.2 in c:\\users\\victor.toguti\\virtual_env_tests\\cuda\\lib\\site-packages (from langchain) (1.26.4)\n",
      "Collecting dataclasses-json<0.7,>=0.5.7 (from langchain-community)\n",
      "  Using cached dataclasses_json-0.6.7-py3-none-any.whl.metadata (25 kB)\n",
      "Collecting pydantic-settings<3.0.0,>=2.4.0 (from langchain-community)\n",
      "  Using cached pydantic_settings-2.8.1-py3-none-any.whl.metadata (3.5 kB)\n",
      "Collecting httpx-sse<1.0.0,>=0.4.0 (from langchain-community)\n",
      "  Using cached httpx_sse-0.4.0-py3-none-any.whl.metadata (9.0 kB)\n",
      "Collecting groq<1,>=0.4.1 (from langchain-groq)\n",
      "  Using cached groq-0.18.0-py3-none-any.whl.metadata (14 kB)\n",
      "Requirement already satisfied: aiosignal>=1.1.2 in c:\\users\\victor.toguti\\virtual_env_tests\\cuda\\lib\\site-packages (from aiohttp<4.0.0,>=3.8.3->langchain) (1.3.1)\n",
      "Requirement already satisfied: attrs>=17.3.0 in c:\\users\\victor.toguti\\virtual_env_tests\\cuda\\lib\\site-packages (from aiohttp<4.0.0,>=3.8.3->langchain) (23.2.0)\n",
      "Requirement already satisfied: frozenlist>=1.1.1 in c:\\users\\victor.toguti\\virtual_env_tests\\cuda\\lib\\site-packages (from aiohttp<4.0.0,>=3.8.3->langchain) (1.4.1)\n",
      "Requirement already satisfied: multidict<7.0,>=4.5 in c:\\users\\victor.toguti\\virtual_env_tests\\cuda\\lib\\site-packages (from aiohttp<4.0.0,>=3.8.3->langchain) (6.0.5)\n",
      "Requirement already satisfied: yarl<2.0,>=1.0 in c:\\users\\victor.toguti\\virtual_env_tests\\cuda\\lib\\site-packages (from aiohttp<4.0.0,>=3.8.3->langchain) (1.9.4)\n",
      "Collecting marshmallow<4.0.0,>=3.18.0 (from dataclasses-json<0.7,>=0.5.7->langchain-community)\n",
      "  Using cached marshmallow-3.26.1-py3-none-any.whl.metadata (7.3 kB)\n",
      "Collecting typing-inspect<1,>=0.4.0 (from dataclasses-json<0.7,>=0.5.7->langchain-community)\n",
      "  Using cached typing_inspect-0.9.0-py3-none-any.whl.metadata (1.5 kB)\n",
      "Requirement already satisfied: anyio<5,>=3.5.0 in c:\\users\\victor.toguti\\virtual_env_tests\\cuda\\lib\\site-packages (from groq<1,>=0.4.1->langchain-groq) (4.4.0)\n",
      "Requirement already satisfied: distro<2,>=1.7.0 in c:\\users\\victor.toguti\\virtual_env_tests\\cuda\\lib\\site-packages (from groq<1,>=0.4.1->langchain-groq) (1.9.0)\n",
      "Requirement already satisfied: httpx<1,>=0.23.0 in c:\\users\\victor.toguti\\virtual_env_tests\\cuda\\lib\\site-packages (from groq<1,>=0.4.1->langchain-groq) (0.27.0)\n",
      "Requirement already satisfied: sniffio in c:\\users\\victor.toguti\\virtual_env_tests\\cuda\\lib\\site-packages (from groq<1,>=0.4.1->langchain-groq) (1.3.1)\n",
      "Requirement already satisfied: typing-extensions<5,>=4.10 in c:\\users\\victor.toguti\\virtual_env_tests\\cuda\\lib\\site-packages (from groq<1,>=0.4.1->langchain-groq) (4.12.2)\n",
      "Collecting jsonpatch<2.0,>=1.33 (from langchain-core<1.0.0,>=0.3.35->langchain)\n",
      "  Downloading jsonpatch-1.33-py2.py3-none-any.whl.metadata (3.0 kB)\n",
      "Requirement already satisfied: packaging<25,>=23.2 in c:\\users\\victor.toguti\\virtual_env_tests\\cuda\\lib\\site-packages (from langchain-core<1.0.0,>=0.3.35->langchain) (24.1)\n",
      "Requirement already satisfied: orjson<4.0.0,>=3.9.14 in c:\\users\\victor.toguti\\virtual_env_tests\\cuda\\lib\\site-packages (from langsmith<0.4,>=0.1.17->langchain) (3.10.9)\n",
      "Collecting requests-toolbelt<2.0.0,>=1.0.0 (from langsmith<0.4,>=0.1.17->langchain)\n",
      "  Downloading requests_toolbelt-1.0.0-py2.py3-none-any.whl.metadata (14 kB)\n",
      "Collecting zstandard<0.24.0,>=0.23.0 (from langsmith<0.4,>=0.1.17->langchain)\n",
      "  Using cached zstandard-0.23.0-cp312-cp312-win_amd64.whl.metadata (3.0 kB)\n",
      "Requirement already satisfied: annotated-types>=0.6.0 in c:\\users\\victor.toguti\\virtual_env_tests\\cuda\\lib\\site-packages (from pydantic<3.0.0,>=2.7.4->langchain) (0.7.0)\n",
      "Collecting pydantic-core==2.27.2 (from pydantic<3.0.0,>=2.7.4->langchain)\n",
      "  Using cached pydantic_core-2.27.2-cp312-cp312-win_amd64.whl.metadata (6.7 kB)\n",
      "Collecting python-dotenv>=0.21.0 (from pydantic-settings<3.0.0,>=2.4.0->langchain-community)\n",
      "  Downloading python_dotenv-1.0.1-py3-none-any.whl.metadata (23 kB)\n",
      "Requirement already satisfied: charset-normalizer<4,>=2 in c:\\users\\victor.toguti\\virtual_env_tests\\cuda\\lib\\site-packages (from requests<3,>=2->langchain) (3.3.2)\n",
      "Requirement already satisfied: idna<4,>=2.5 in c:\\users\\victor.toguti\\virtual_env_tests\\cuda\\lib\\site-packages (from requests<3,>=2->langchain) (3.7)\n",
      "Requirement already satisfied: urllib3<3,>=1.21.1 in c:\\users\\victor.toguti\\virtual_env_tests\\cuda\\lib\\site-packages (from requests<3,>=2->langchain) (2.2.2)\n",
      "Requirement already satisfied: certifi>=2017.4.17 in c:\\users\\victor.toguti\\virtual_env_tests\\cuda\\lib\\site-packages (from requests<3,>=2->langchain) (2024.7.4)\n",
      "Collecting greenlet!=0.4.17 (from SQLAlchemy<3,>=1.4->langchain)\n",
      "  Downloading greenlet-3.1.1-cp312-cp312-win_amd64.whl.metadata (3.9 kB)\n",
      "Requirement already satisfied: httpcore==1.* in c:\\users\\victor.toguti\\virtual_env_tests\\cuda\\lib\\site-packages (from httpx<1,>=0.23.0->groq<1,>=0.4.1->langchain-groq) (1.0.5)\n",
      "Requirement already satisfied: h11<0.15,>=0.13 in c:\\users\\victor.toguti\\virtual_env_tests\\cuda\\lib\\site-packages (from httpcore==1.*->httpx<1,>=0.23.0->groq<1,>=0.4.1->langchain-groq) (0.14.0)\n",
      "Requirement already satisfied: jsonpointer>=1.9 in c:\\users\\victor.toguti\\virtual_env_tests\\cuda\\lib\\site-packages (from jsonpatch<2.0,>=1.33->langchain-core<1.0.0,>=0.3.35->langchain) (3.0.0)\n",
      "Collecting mypy-extensions>=0.3.0 (from typing-inspect<1,>=0.4.0->dataclasses-json<0.7,>=0.5.7->langchain-community)\n",
      "  Downloading mypy_extensions-1.0.0-py3-none-any.whl.metadata (1.1 kB)\n",
      "Using cached langchain-0.3.19-py3-none-any.whl (1.0 MB)\n",
      "Using cached langchain_community-0.3.18-py3-none-any.whl (2.5 MB)\n",
      "Using cached langchain_groq-0.2.4-py3-none-any.whl (14 kB)\n",
      "Using cached dataclasses_json-0.6.7-py3-none-any.whl (28 kB)\n",
      "Using cached groq-0.18.0-py3-none-any.whl (121 kB)\n",
      "Using cached httpx_sse-0.4.0-py3-none-any.whl (7.8 kB)\n",
      "Using cached langchain_core-0.3.40-py3-none-any.whl (414 kB)\n",
      "Using cached langchain_text_splitters-0.3.6-py3-none-any.whl (31 kB)\n",
      "Using cached langsmith-0.3.11-py3-none-any.whl (335 kB)\n",
      "Using cached pydantic-2.10.6-py3-none-any.whl (431 kB)\n",
      "Using cached pydantic_core-2.27.2-cp312-cp312-win_amd64.whl (2.0 MB)\n",
      "Using cached pydantic_settings-2.8.1-py3-none-any.whl (30 kB)\n",
      "Downloading SQLAlchemy-2.0.38-cp312-cp312-win_amd64.whl (2.1 MB)\n",
      "   ---------------------------------------- 0.0/2.1 MB ? eta -:--:--\n",
      "   -------------- ------------------------- 0.8/2.1 MB 5.6 MB/s eta 0:00:01\n",
      "   ---------------------------------------- 2.1/2.1 MB 6.5 MB/s eta 0:00:00\n",
      "Downloading tenacity-9.0.0-py3-none-any.whl (28 kB)\n",
      "Downloading greenlet-3.1.1-cp312-cp312-win_amd64.whl (299 kB)\n",
      "Downloading jsonpatch-1.33-py2.py3-none-any.whl (12 kB)\n",
      "Using cached marshmallow-3.26.1-py3-none-any.whl (50 kB)\n",
      "Downloading python_dotenv-1.0.1-py3-none-any.whl (19 kB)\n",
      "Downloading requests_toolbelt-1.0.0-py2.py3-none-any.whl (54 kB)\n",
      "Using cached typing_inspect-0.9.0-py3-none-any.whl (8.8 kB)\n",
      "Using cached zstandard-0.23.0-cp312-cp312-win_amd64.whl (495 kB)\n",
      "Downloading mypy_extensions-1.0.0-py3-none-any.whl (4.7 kB)\n",
      "Installing collected packages: zstandard, tenacity, python-dotenv, pydantic-core, mypy-extensions, marshmallow, jsonpatch, httpx-sse, greenlet, typing-inspect, SQLAlchemy, requests-toolbelt, pydantic, pydantic-settings, langsmith, groq, dataclasses-json, langchain-core, langchain-text-splitters, langchain-groq, langchain, langchain-community\n",
      "  Attempting uninstall: pydantic-core\n",
      "    Found existing installation: pydantic_core 2.16.2\n",
      "    Uninstalling pydantic_core-2.16.2:\n",
      "      Successfully uninstalled pydantic_core-2.16.2\n",
      "  Attempting uninstall: pydantic\n",
      "    Found existing installation: pydantic 2.6.1\n",
      "    Uninstalling pydantic-2.6.1:\n",
      "      Successfully uninstalled pydantic-2.6.1\n",
      "Successfully installed SQLAlchemy-2.0.38 dataclasses-json-0.6.7 greenlet-3.1.1 groq-0.18.0 httpx-sse-0.4.0 jsonpatch-1.33 langchain-0.3.19 langchain-community-0.3.18 langchain-core-0.3.40 langchain-groq-0.2.4 langchain-text-splitters-0.3.6 langsmith-0.3.11 marshmallow-3.26.1 mypy-extensions-1.0.0 pydantic-2.10.6 pydantic-core-2.27.2 pydantic-settings-2.8.1 python-dotenv-1.0.1 requests-toolbelt-1.0.0 tenacity-9.0.0 typing-inspect-0.9.0 zstandard-0.23.0\n",
      "Note: you may need to restart the kernel to use updated packages.\n"
     ]
    },
    {
     "name": "stderr",
     "output_type": "stream",
     "text": [
      "ERROR: pip's dependency resolver does not currently take into account all the packages that are installed. This behaviour is the source of the following dependency conflicts.\n",
      "mistral-common 1.3.2 requires pydantic==2.6.1, but you have pydantic 2.10.6 which is incompatible.\n"
     ]
    }
   ],
   "source": [
    "#First step is make the download of the libraries that will be used\n",
    "pip install langchain langchain-community langchain-groq"
   ]
  },
  {
   "cell_type": "code",
   "execution_count": 71,
   "id": "47b318c5-3cdb-4384-ac69-77385bf0f740",
   "metadata": {},
   "outputs": [
    {
     "name": "stdin",
     "output_type": "stream",
     "text": [
      "We need your Groq API KEY:  ········\n"
     ]
    }
   ],
   "source": [
    "#Importing the os and getpass to colect and use the API key of the user\n",
    "import os, getpass\n",
    "os.environ[\"GROQ_API_KEY\"] = getpass.getpass(\"We need your Groq API KEY: \")"
   ]
  },
  {
   "cell_type": "code",
   "execution_count": 82,
   "id": "7f31f758-1e8e-4df7-b817-5494183c6cc2",
   "metadata": {},
   "outputs": [],
   "source": [
    "#import all the langchain libraries, plus the json librarie to make the data movimentation\n",
    "from langchain_groq import ChatGroq\n",
    "from langchain_core.prompts import ChatPromptTemplate\n",
    "from langchain_core.output_parsers import StrOutputParser\n",
    "import json"
   ]
  },
  {
   "cell_type": "code",
   "execution_count": 142,
   "id": "eff0dc86-b414-4b98-bcf9-9e87156ee72e",
   "metadata": {},
   "outputs": [],
   "source": [
    "#Declaring all the terms and symbols that will be verified. \n",
    "mathTerms= [\"+\",\"-\",\"*\",\"/\"\n",
    "            ,\"^\",\"=\",\"plus\",\"minus\",\"equal\",\"multiply\",\"multiple\",\"result\"]"
   ]
  },
  {
   "cell_type": "code",
   "execution_count": 94,
   "id": "d5bb1a22-eff2-4857-a9e2-c03efaa69e97",
   "metadata": {},
   "outputs": [],
   "source": [
    "#Declaring the model\n",
    "retrievalLLM = ChatGroq(model=\"llama-3.1-8b-instant\")\n",
    "#Declaring the parser\n",
    "outputParser = StrOutputParser()"
   ]
  },
  {
   "cell_type": "code",
   "execution_count": 148,
   "id": "cbd2bda7-a808-4129-ae7b-fe13ae2f9e01",
   "metadata": {},
   "outputs": [],
   "source": [
    "#Prompt structure declaration\n",
    "prompt = ChatPromptTemplate.from_messages(\n",
    "    [(\"system\",f\"Given one {{class}} instruction, make an response as these type of class teacher and output the result.\"),\n",
    "    (\"human\",f\"{{calculation}}\")]\n",
    ")\n",
    "\n",
    "#Declaring the query collect and save function \n",
    "def QueryGetter(query):\n",
    "    for term in mathTerms:\n",
    "#Here is the type of question verification\n",
    "        if term in query:\n",
    "            with open(\"query.json\",\"w\") as jsonf:\n",
    "                jsonf.write(json.dumps([{\"TypeOfClass\":\"Math\"},{\"Query\":f\" {query}\"}]))\n",
    "            jsonf.close()\n",
    "\n",
    "#The chain-call function declaration\n",
    "def Calculate(dataL):\n",
    "#Declaring the chain\n",
    "    chain = prompt | retrievalLLM | outputParser\n",
    "    type_class = dataL[0][\"TypeOfClass\"] \n",
    "    query = dataL[1][\"Query\"]\n",
    "#Sending the full prompt to the model through the chain, and getting the output\n",
    "    output = chain.invoke({\"class\": type_class,\"calculation\":  query})\n",
    "    print(output)"
   ]
  },
  {
   "cell_type": "code",
   "execution_count": 149,
   "id": "6323a6b7-816a-4564-83ca-87d41dcf9b16",
   "metadata": {},
   "outputs": [],
   "source": [
    "#Declaring the main function\n",
    "def MathQuestion(question):\n",
    "#Activating the QueryGetter Function with the question\n",
    "    QueryGetter(question)\n",
    "#Getting the json data and pushing to the Calculate function\n",
    "    with open(\"query.json\",\"r\") as jsonf:\n",
    "        data = [json.loads(line) for line in jsonf]\n",
    "        for dataL in data:\n",
    "            Calculate(dataL)"
   ]
  },
  {
   "cell_type": "code",
   "execution_count": 150,
   "id": "7e14bba9-6962-47b9-9c78-cf9d00d92280",
   "metadata": {},
   "outputs": [
    {
     "name": "stdout",
     "output_type": "stream",
     "text": [
      "Class, today we're going to calculate a power of a large number. To calculate 200^5, we need to understand what the exponent means. In this case, the exponent is 5, which means we need to multiply 200 by itself 5 times.\n",
      "\n",
      "Let's start with the calculation:\n",
      "\n",
      "200^1 = 200\n",
      "200^2 = 200 × 200 = 40,000\n",
      "200^3 = 40,000 × 200 = 8,000,000\n",
      "200^4 = 8,000,000 × 200 = 1,600,000,000\n",
      "200^5 = 1,600,000,000 × 200 = 320,000,000,000\n",
      "\n",
      "So, 200^5 is equal to 320,000,000,000.\n"
     ]
    }
   ],
   "source": [
    "MathQuestion(\"Calculate 200^5\")"
   ]
  },
  {
   "cell_type": "code",
   "execution_count": null,
   "id": "1e40fcb7-ead4-417a-b808-8abb2b40ebd8",
   "metadata": {},
   "outputs": [],
   "source": []
  }
 ],
 "metadata": {
  "kernelspec": {
   "display_name": "test1",
   "language": "python",
   "name": "cuda"
  },
  "language_info": {
   "codemirror_mode": {
    "name": "ipython",
    "version": 3
   },
   "file_extension": ".py",
   "mimetype": "text/x-python",
   "name": "python",
   "nbconvert_exporter": "python",
   "pygments_lexer": "ipython3",
   "version": "3.12.4"
  }
 },
 "nbformat": 4,
 "nbformat_minor": 5
}
